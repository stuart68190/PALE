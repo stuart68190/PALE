{
 "cells": [
  {
   "cell_type": "code",
   "execution_count": 11,
   "metadata": {},
   "outputs": [],
   "source": [
    "import torch.nn as nn\n",
    "\n",
    "class SimpleNet(nn.Module):\n",
    "    def __init__(self):\n",
    "        super(SimpleNet, self).__init__()\n",
    "        self.fc1 = nn.Linear(784, 5)\n",
    "        self.fc2 = nn.Linear(5, 10)\n",
    "\n",
    "    def forward(self, x):\n",
    "        x = x.view(-1, 784)\n",
    "        x = nn.functional.relu(self.fc1(x))\n",
    "        x = self.fc2(x)\n",
    "        return x\n",
    "\n",
    "net = SimpleNet()"
   ]
  },
  {
   "cell_type": "code",
   "execution_count": 12,
   "metadata": {},
   "outputs": [],
   "source": [
    "import torchvision.datasets as datasets\n",
    "import torchvision.transforms as transforms\n",
    "\n",
    "mnist_test = datasets.MNIST(root='./data', train=False, download=True, transform=transforms.ToTensor())\n",
    "\n",
    "# function to loop through the test dataset and count how many predictions we get correct\n",
    "def test_accuracy(net, test_data):\n",
    "    correct = 0\n",
    "    for i in range(len(test_data)):\n",
    "        image, label = test_data[i]\n",
    "        output = net(image)\n",
    "        prediction = output.argmax()\n",
    "        if (prediction == label):\n",
    "            correct += 1\n",
    "    return correct/len(test_data)*100"
   ]
  },
  {
   "cell_type": "code",
   "execution_count": 13,
   "metadata": {},
   "outputs": [
    {
     "name": "stdout",
     "output_type": "stream",
     "text": [
      "Epoch 1: 0.6878\n",
      "Epoch 2: 0.8069\n",
      "Epoch 3: 0.8421\n",
      "Epoch 4: 0.8588\n",
      "Epoch 5: 0.8639\n"
     ]
    }
   ],
   "source": [
    "import torch\n",
    "\n",
    "# download and load the MNIST training dataset\n",
    "mnist_training = datasets.MNIST(root='./data', download=True, transform=transforms.ToTensor())\n",
    "\n",
    "# create a training data loader\n",
    "train_loader = torch.utils.data.DataLoader(mnist_training, batch_size=64, shuffle=True, num_workers=1)\n",
    "\n",
    "# create an optimizer object\n",
    "optimizer = torch.optim.SGD(net.parameters(), lr=0.01)\n",
    "\n",
    "# create a loss function object\n",
    "loss_function = nn.CrossEntropyLoss()\n",
    "\n",
    "# run the main training loop\n",
    "for epoch in range(5):\n",
    "    for image_batch, target_batch in train_loader:\n",
    "        optimizer.zero_grad()\n",
    "        output = net(image_batch)\n",
    "        loss = loss_function(output, target_batch)\n",
    "        loss.backward()\n",
    "        optimizer.step()\n",
    "    print('Epoch %d: %.4f' % (epoch+1, test_accuracy(net, mnist_test)/100))"
   ]
  },
  {
   "cell_type": "code",
   "execution_count": null,
   "metadata": {},
   "outputs": [],
   "source": []
  }
 ],
 "metadata": {
  "kernelspec": {
   "display_name": ".venv",
   "language": "python",
   "name": "python3"
  },
  "language_info": {
   "codemirror_mode": {
    "name": "ipython",
    "version": 3
   },
   "file_extension": ".py",
   "mimetype": "text/x-python",
   "name": "python",
   "nbconvert_exporter": "python",
   "pygments_lexer": "ipython3",
   "version": "3.11.3"
  }
 },
 "nbformat": 4,
 "nbformat_minor": 2
}
