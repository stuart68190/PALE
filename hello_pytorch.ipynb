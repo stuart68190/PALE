{
 "cells": [
  {
   "cell_type": "markdown",
   "metadata": {},
   "source": [
    "### Introduction\n",
    "Now we are going to make sure the computer is set up to run the AI software we need.  We are going to use python, along with a library, PyTorch that provides lots of support for AI and is widely used in the real world.  So we are going to work in the same way as a lot of AI researchers and prrofessionals.\n",
    "### So Far\n",
    "You have already run the hello_world notebok, so you have a system that can run python code in a jupyter notebook.  And you have followed the instructions to set up Visual Studio Code, Python 3.10 or higher, Github and Venv environments.  This has given us a good, serious development environment for general purpose python development.\n",
    "### Next\n",
    "Now we need to make sure that we have the correct python libraries installed for the AI and other functionality that we need.  We are also going to use it in a way that allows us to use a fast Nvidia graphics card to do the AI work for us, if we have one.  \n",
    "* Go to https://pytorch.org/get-started/locally/.  Set the preferences to Build: Stable, OS: Mac or Windows as appropriate, Language Python, Compute Platform: CUDA 12.x.  Copy the command that it tells you to run.\n",
    "* Open a terminal in your environment (Terminal -> New Terminal) if there isn't one open already.\n",
    "* Paste the command you copied from the pytorch website into the terminal and run it.  It might take a while, as it has to download the program from pytorch."
   ]
  },
  {
   "cell_type": "markdown",
   "metadata": {},
   "source": [
    "### Test your installation\n",
    "Click on Run All.  The following code should show whether a suitable graphics card is available or whether the code will have to run on the CPU.  It uses the torch.cuda_is_available() function to find out."
   ]
  },
  {
   "cell_type": "code",
   "execution_count": 7,
   "metadata": {},
   "outputs": [
    {
     "name": "stdout",
     "output_type": "stream",
     "text": [
      "A CUDA device, probably a suitable graphics card, is available: NVIDIA GeForce RTX 4090.\n"
     ]
    }
   ],
   "source": [
    "import torch\n",
    "print(f\"A CUDA device, probably a suitable graphics card, is available: {torch.cuda.get_device_name(0)}.\" \n",
    "    if torch.cuda.is_available() else \"No CUDA device is available, so code will run on the CPU instead.\")\n"
   ]
  },
  {
   "cell_type": "markdown",
   "metadata": {},
   "source": [
    "### Other Libraries\n",
    "You will need some other libraries.  Make sure that you run each of the following commands in a VS Code Terminal.\n",
    "* pip install matplotlib\n",
    "\n",
    "The code below should run and print the version numbers of each library."
   ]
  },
  {
   "cell_type": "code",
   "execution_count": 10,
   "metadata": {},
   "outputs": [
    {
     "name": "stdout",
     "output_type": "stream",
     "text": [
      "Matplotlib is installed with version 3.8.1\n"
     ]
    }
   ],
   "source": [
    "import matplotlib\n",
    "print(f\"Matplotlib is installed with version {matplotlib.__version__}\")"
   ]
  }
 ],
 "metadata": {
  "kernelspec": {
   "display_name": ".venv",
   "language": "python",
   "name": "python3"
  },
  "language_info": {
   "codemirror_mode": {
    "name": "ipython",
    "version": 3
   },
   "file_extension": ".py",
   "mimetype": "text/x-python",
   "name": "python",
   "nbconvert_exporter": "python",
   "pygments_lexer": "ipython3",
   "version": "3.11.3"
  }
 },
 "nbformat": 4,
 "nbformat_minor": 2
}
