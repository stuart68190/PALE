{
 "cells": [
  {
   "cell_type": "markdown",
   "metadata": {},
   "source": [
    "### Convolution\n",
    "\n"
   ]
  },
  {
   "cell_type": "code",
   "execution_count": 1,
   "metadata": {},
   "outputs": [],
   "source": [
    "import torch.nn as nn\n",
    "import torch\n",
    "from models.pale_nets import ConvolvedNet\n",
    "device = torch.device(\"cuda:0\" if torch.cuda.is_available() else \"cpu\")\n",
    "\n",
    "net = ConvolvedNet().to(device)\n"
   ]
  },
  {
   "cell_type": "code",
   "execution_count": 2,
   "metadata": {},
   "outputs": [],
   "source": [
    "import torchvision.datasets as datasets\n",
    "import torchvision.transforms as transforms\n",
    "\n",
    "\n",
    "#transform_set = transforms.Compose([transforms.Resize((32,32)), transforms.ToTensor(), transforms.Normalize(mean = (0.1307,), std = (0.3081,))])\n",
    "transform_set = transforms.Compose([transforms.ToTensor(), transforms.Normalize(mean = (0.1307,), std = (0.3081,))])\n",
    "mnist_test = datasets.MNIST(root='./data', train=False, download=True, transform=transform_set)\n",
    "\n",
    "# function to loop through the test dataset and count how many predictions we get correct\n",
    "def test_accuracy(net, test_data):\n",
    "    with torch.no_grad():\n",
    "        correct = 0\n",
    "        for i in range(len(test_data)):\n",
    "            image, label = test_data[i]\n",
    "            image = image.unsqueeze(0)\n",
    "            output = net(image.to(device))\n",
    "            prediction = output.argmax()\n",
    "            if (prediction == label):\n",
    "                correct += 1\n",
    "    return correct/len(test_data)*100"
   ]
  },
  {
   "cell_type": "code",
   "execution_count": 3,
   "metadata": {},
   "outputs": [
    {
     "name": "stdout",
     "output_type": "stream",
     "text": [
      "Epoch 1: 0.8640, 0.1127\n",
      "Epoch 2: 0.8994, 0.0124\n",
      "Epoch 3: 0.8931, 0.0835\n",
      "Epoch 4: 0.8712, 0.0581\n",
      "Epoch 5: 0.9412, 0.0030\n",
      "Epoch 6: 0.9037, 0.0445\n",
      "Epoch 7: 0.9753, 0.0233\n",
      "Epoch 8: 0.8864, 0.0216\n",
      "Epoch 9: 0.9235, 0.0139\n",
      "Epoch 10: 0.9116, 0.0051\n",
      "Epoch 11: 0.9173, 0.0250\n",
      "Epoch 12: 0.9456, 0.0001\n",
      "Epoch 13: 0.9273, 0.0003\n",
      "Epoch 14: 0.9500, 0.0153\n",
      "Epoch 15: 0.9340, 0.0078\n",
      "Epoch 16: 0.9338, 0.0002\n",
      "Epoch 17: 0.9495, 0.0001\n",
      "Epoch 18: 0.9534, 0.0000\n",
      "Epoch 19: 0.9601, 0.0000\n",
      "Epoch 20: 0.9590, 0.0012\n",
      "Epoch 21: 0.9436, 0.0001\n",
      "Epoch 22: 0.9406, 0.0003\n",
      "Epoch 23: 0.9494, 0.2074\n",
      "Epoch 24: 0.9366, 0.0006\n",
      "Epoch 25: 0.9434, 0.0004\n"
     ]
    }
   ],
   "source": [
    "import torch\n",
    "\n",
    "# download and load the MNIST training dataset\n",
    "mnist_training = datasets.MNIST(root='./data', download=True, transform=transform_set)\n",
    "\n",
    "# create a training data loader\n",
    "train_loader = torch.utils.data.DataLoader(mnist_training, batch_size=64, shuffle=True, num_workers=1)\n",
    "\n",
    "# create an optimizer object\n",
    "optimizer = torch.optim.Adam(net.parameters(), lr=0.001)\n",
    "\n",
    "# create a loss function object\n",
    "loss_function = nn.CrossEntropyLoss()\n",
    "\n",
    "# run the main training loop\n",
    "for epoch in range(25):\n",
    "    for image_batch, target_batch in train_loader:\n",
    "        image_batch = image_batch.to(device)\n",
    "        target_batch = target_batch.to(device)\n",
    "        optimizer.zero_grad()\n",
    "        output = net(image_batch)\n",
    "        loss = loss_function(output, target_batch)\n",
    "        loss.backward()\n",
    "        optimizer.step()\n",
    "    print('Epoch %d: %.4f, %.4f' % (epoch+1, test_accuracy(net, mnist_test)/100, loss.item()))"
   ]
  },
  {
   "cell_type": "code",
   "execution_count": 4,
   "metadata": {},
   "outputs": [],
   "source": [
    "torch.save(net.state_dict(), 'models/convolved_net_mnist.pth')\n"
   ]
  }
 ],
 "metadata": {
  "kernelspec": {
   "display_name": ".venv",
   "language": "python",
   "name": "python3"
  },
  "language_info": {
   "codemirror_mode": {
    "name": "ipython",
    "version": 3
   },
   "file_extension": ".py",
   "mimetype": "text/x-python",
   "name": "python",
   "nbconvert_exporter": "python",
   "pygments_lexer": "ipython3",
   "version": "3.11.3"
  }
 },
 "nbformat": 4,
 "nbformat_minor": 2
}
