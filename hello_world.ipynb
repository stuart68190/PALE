{
 "cells": [
  {
   "cell_type": "markdown",
   "metadata": {},
   "source": [
    "### Introduction\n",
    "This is a type of file called a jupyter notebook.  It has an extension of .ipynb so you can recognise it as a jupyter notebook file*.\n",
    "It works like a python program, but where the results are shown in the notebook, just underneath the relevant section of code.\n",
    "The notebook contains two types of section.  This one is called a markdown section, which basically means it is for writing notes and explanations, not for program code.\n",
    "The section below is a code section, and contains a line of python code.  \n",
    "\n",
    "Click on Run All in the bar at the top of this part of the screen.  You should see that the words 'hello, world' appear underneath the code block, when the code is run.\n",
    "\n",
    "*Historical note: ipynb stands for Interactive PYthon NoteBook."
   ]
  },
  {
   "cell_type": "code",
   "execution_count": 2,
   "metadata": {},
   "outputs": [
    {
     "name": "stdout",
     "output_type": "stream",
     "text": [
      "Hello, World!\n"
     ]
    }
   ],
   "source": [
    "print(\"Hello, World!\")"
   ]
  },
  {
   "cell_type": "markdown",
   "metadata": {},
   "source": [
    "### Did it work?\n",
    "If you see the words 'Hello, World!' appear below the code block and about this markdown block, then the notebook is working correctly.  You can move on to the next notebook."
   ]
  },
  {
   "cell_type": "markdown",
   "metadata": {},
   "source": [
    "### Interesting Fact\n",
    "When you are learning a new computer language or setting up a language on a computer, it is a piece of computing tradition to make the first program you write one that just prints the phrase \"Hello, World!\".\n",
    "This is because it is simple, it gives immediate feedback (ie you can tell whether things are working or not) and it tells you that you have set up everything necessary to write a working program.  It was made popular by a book called 'The C Programming Language\", written in 1978 by Brian Kernighan and Dennis Ritchie.  So, always start off with Hello, World! and join in with the history and culture of computer science.\n"
   ]
  }
 ],
 "metadata": {
  "kernelspec": {
   "display_name": ".venv",
   "language": "python",
   "name": "python3"
  },
  "language_info": {
   "codemirror_mode": {
    "name": "ipython",
    "version": 3
   },
   "file_extension": ".py",
   "mimetype": "text/x-python",
   "name": "python",
   "nbconvert_exporter": "python",
   "pygments_lexer": "ipython3",
   "version": "3.11.3"
  }
 },
 "nbformat": 4,
 "nbformat_minor": 2
}
