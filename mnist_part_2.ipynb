{
 "cells": [
  {
   "cell_type": "markdown",
   "metadata": {},
   "source": [
    "### A Simple Neural Network\n",
    "\n",
    "Now that we have some image data to feed in, we need a neural network to feed it into.  The neural network takes the image data as its input, and produces a classification as output.  The classification is the neural network's calculation of what digit it thinks the input represents.\n",
    "\n",
    "The input is therefore 28x28 = 784 numbers, i.e. one for each pixel in the input image.  The output of the neural network is a set of 10 numbers, where each number represents the probability of the image being that digit.\n",
    "\n",
    "#### Structure of the Network\n",
    "\n",
    "We are going to build a really simple network to start off with.  It is going to have 3 layers.  The input layer has 784 nodes - one for each input pixel.  The output layer has 10 nodes, one for each digit.  The middle layer has 5 nodes.  Every node in thee input layer is connected to each of the five middle layer nodes, and each node in the middle layer is connected to each node in the output.  This is called a fully connected network."
   ]
  },
  {
   "cell_type": "code",
   "execution_count": 66,
   "metadata": {},
   "outputs": [],
   "source": [
    "import torch.nn as nn\n",
    "\n",
    "class SimpleNet(nn.Module):\n",
    "    def __init__(self):\n",
    "        super(SimpleNet, self).__init__()\n",
    "        self.fc1 = nn.Linear(784, 5)\n",
    "        self.fc2 = nn.Linear(5, 10)\n",
    "\n",
    "    def forward(self, x):\n",
    "        x = x.view(784)\n",
    "        x = nn.functional.relu(self.fc1(x))\n",
    "        x = self.fc2(x)\n",
    "        return x\n",
    "\n",
    "net = SimpleNet()"
   ]
  },
  {
   "cell_type": "markdown",
   "metadata": {},
   "source": [
    "Now we can test the model, by passing an image to it and seeing what it predicts.  This is probably wrong at the moment, since the model is created with random values for the node weights, and therefore the prediction is random at the moment.  So it has a 1 in 10 chance of being right, since there are 10 possible answers (digits)."
   ]
  },
  {
   "cell_type": "code",
   "execution_count": 67,
   "metadata": {},
   "outputs": [
    {
     "name": "stdout",
     "output_type": "stream",
     "text": [
      "Output = tensor([ 0.2345, -0.1748, -0.0267, -0.0392,  0.3167, -0.0355,  0.4001, -0.3960,\n",
      "        -0.0787,  0.2393], grad_fn=<ViewBackward0>)\n"
     ]
    }
   ],
   "source": [
    "\n",
    "# reference the libraries we will use\n",
    "import torchvision.datasets as datasets\n",
    "import torchvision.transforms as transforms\n",
    "\n",
    "# download and load the MNIST dataset\n",
    "mnist = datasets.MNIST(root='./data', download=True)\n",
    "\n",
    "# get the first image and its label\n",
    "# change the index number here to show other images and labels\n",
    "image, label = mnist[0]\n",
    "\n",
    "# convert the image to a tensor - ie a list of numbers suitable for input into a neural network\n",
    "# this converts the image from a PIL image to a PyTorch tensor, and also scales the pixel values from 0-255 to 0-1\n",
    "tensor = transforms.ToTensor()(image)\n",
    "\n",
    "# pass the image through the neural network\n",
    "output = net(tensor)\n",
    "print(f\"Output = {output}\")"
   ]
  },
  {
   "cell_type": "markdown",
   "metadata": {},
   "source": [
    "The output is a list of probabilities for the digits that the input might represent.  We can get the most likely digit (ie what the model thinks the image represents) by choosing the highest probability digit."
   ]
  },
  {
   "cell_type": "code",
   "execution_count": 68,
   "metadata": {},
   "outputs": [
    {
     "name": "stdout",
     "output_type": "stream",
     "text": [
      "Most likely digit = 6\n"
     ]
    }
   ],
   "source": [
    "prediction = output.argmax()\n",
    "print(f\"Most likely digit = {prediction}\")"
   ]
  },
  {
   "cell_type": "markdown",
   "metadata": {},
   "source": [
    "We can get a set of data (images and labels) from the data set and use this as test data.  We can then loop through this data, asking the model to predict the answer and see what percentage we get right.  If the model is basically random, then the percentage we get right should be about 10%.  If you run the notebook a few times, you should see this percentage change a little, which shows that the model is random and different each time."
   ]
  },
  {
   "cell_type": "code",
   "execution_count": 69,
   "metadata": {},
   "outputs": [
    {
     "name": "stdout",
     "output_type": "stream",
     "text": [
      "Percentage of correct predictions = 9.59%\n"
     ]
    }
   ],
   "source": [
    "# get a test dataset from MNIST\n",
    "# note that we have apply the transform here, to save doing it separately later\n",
    "# using train=False gives us the test dataset, which contains different images from the dataset we will use for training later.\n",
    "mnist_test = datasets.MNIST(root='./data', train=False, download=True, transform=transforms.ToTensor())\n",
    "\n",
    "# function to loop through the test dataset and count how many predictions we get correct\n",
    "def test_accuracy(net, test_data):\n",
    "    correct = 0\n",
    "    for i in range(len(test_data)):\n",
    "        image, label = test_data[i]\n",
    "        output = net(image)\n",
    "        prediction = output.argmax()\n",
    "        if (prediction == label):\n",
    "            correct += 1\n",
    "    return correct/len(test_data)*100\n",
    "\n",
    "print(f\"Percentage of correct predictions = {test_accuracy(net, mnist_test)}%\")"
   ]
  },
  {
   "cell_type": "markdown",
   "metadata": {},
   "source": [
    "If we want to improve the model (and we do) then we will have to train it."
   ]
  }
 ],
 "metadata": {
  "kernelspec": {
   "display_name": ".venv",
   "language": "python",
   "name": "python3"
  },
  "language_info": {
   "codemirror_mode": {
    "name": "ipython",
    "version": 3
   },
   "file_extension": ".py",
   "mimetype": "text/x-python",
   "name": "python",
   "nbconvert_exporter": "python",
   "pygments_lexer": "ipython3",
   "version": "3.11.3"
  }
 },
 "nbformat": 4,
 "nbformat_minor": 2
}
