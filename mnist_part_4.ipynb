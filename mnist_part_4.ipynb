{
 "cells": [
  {
   "cell_type": "code",
   "execution_count": 12,
   "metadata": {},
   "outputs": [],
   "source": [
    "import torch.nn as nn\n",
    "import torch\n",
    "from models.pale_nets import BiggerNet\n",
    "device = torch.device(\"cuda:0\" if torch.cuda.is_available() else \"cpu\")\n",
    "\n",
    "net = BiggerNet().to(device)\n"
   ]
  },
  {
   "cell_type": "code",
   "execution_count": 13,
   "metadata": {},
   "outputs": [],
   "source": [
    "import torchvision.datasets as datasets\n",
    "import torchvision.transforms as transforms\n",
    "\n",
    "mnist_test = datasets.MNIST(root='./data', train=False, download=True, transform=transforms.ToTensor())\n",
    "\n",
    "# function to loop through the test dataset and count how many predictions we get correct\n",
    "def test_accuracy(net, test_data):\n",
    "    correct = 0\n",
    "    for i in range(len(test_data)):\n",
    "        image, label = test_data[i]\n",
    "        output = net(image.to(device))\n",
    "        prediction = output.argmax()\n",
    "        if (prediction == label):\n",
    "            correct += 1\n",
    "    return correct/len(test_data)*100"
   ]
  },
  {
   "cell_type": "code",
   "execution_count": 14,
   "metadata": {},
   "outputs": [
    {
     "name": "stdout",
     "output_type": "stream",
     "text": [
      "Epoch 1: 0.8336\n",
      "Epoch 2: 0.8889\n",
      "Epoch 3: 0.9051\n",
      "Epoch 4: 0.9103\n",
      "Epoch 5: 0.9195\n",
      "Epoch 6: 0.9250\n",
      "Epoch 7: 0.9290\n",
      "Epoch 8: 0.9334\n",
      "Epoch 9: 0.9370\n",
      "Epoch 10: 0.9392\n",
      "Epoch 11: 0.9425\n",
      "Epoch 12: 0.9458\n",
      "Epoch 13: 0.9476\n",
      "Epoch 14: 0.9499\n",
      "Epoch 15: 0.9526\n",
      "Epoch 16: 0.9559\n",
      "Epoch 17: 0.9570\n",
      "Epoch 18: 0.9581\n",
      "Epoch 19: 0.9608\n",
      "Epoch 20: 0.9614\n",
      "Epoch 21: 0.9619\n",
      "Epoch 22: 0.9638\n",
      "Epoch 23: 0.9640\n",
      "Epoch 24: 0.9658\n",
      "Epoch 25: 0.9658\n",
      "Epoch 26: 0.9674\n",
      "Epoch 27: 0.9683\n",
      "Epoch 28: 0.9689\n",
      "Epoch 29: 0.9697\n",
      "Epoch 30: 0.9707\n",
      "Epoch 31: 0.9714\n",
      "Epoch 32: 0.9722\n",
      "Epoch 33: 0.9723\n",
      "Epoch 34: 0.9722\n",
      "Epoch 35: 0.9728\n",
      "Epoch 36: 0.9741\n",
      "Epoch 37: 0.9734\n",
      "Epoch 38: 0.9743\n",
      "Epoch 39: 0.9752\n",
      "Epoch 40: 0.9756\n",
      "Epoch 41: 0.9760\n",
      "Epoch 42: 0.9762\n",
      "Epoch 43: 0.9766\n",
      "Epoch 44: 0.9776\n",
      "Epoch 45: 0.9769\n",
      "Epoch 46: 0.9776\n",
      "Epoch 47: 0.9780\n",
      "Epoch 48: 0.9776\n",
      "Epoch 49: 0.9774\n",
      "Epoch 50: 0.9788\n"
     ]
    }
   ],
   "source": [
    "import torch\n",
    "\n",
    "# download and load the MNIST training dataset\n",
    "mnist_training = datasets.MNIST(root='./data', download=True, transform=transforms.ToTensor())\n",
    "\n",
    "# create a training data loader\n",
    "train_loader = torch.utils.data.DataLoader(mnist_training, batch_size=64, shuffle=True, num_workers=1)\n",
    "\n",
    "# create an optimizer object\n",
    "optimizer = torch.optim.SGD(net.parameters(), lr=0.01)\n",
    "\n",
    "# create a loss function object\n",
    "loss_function = nn.CrossEntropyLoss()\n",
    "\n",
    "# run the main training loop\n",
    "for epoch in range(50):\n",
    "    for image_batch, target_batch in train_loader:\n",
    "        optimizer.zero_grad()\n",
    "        output = net(image_batch.to(device))\n",
    "        loss = loss_function(output, target_batch.to(device))\n",
    "        loss.backward()\n",
    "        optimizer.step()\n",
    "    print('Epoch %d: %.4f' % (epoch+1, test_accuracy(net, mnist_test)/100))"
   ]
  },
  {
   "cell_type": "code",
   "execution_count": 15,
   "metadata": {},
   "outputs": [],
   "source": [
    "torch.save(net.state_dict(), 'models/bigger_net.pth')\n"
   ]
  }
 ],
 "metadata": {
  "kernelspec": {
   "display_name": ".venv",
   "language": "python",
   "name": "python3"
  },
  "language_info": {
   "codemirror_mode": {
    "name": "ipython",
    "version": 3
   },
   "file_extension": ".py",
   "mimetype": "text/x-python",
   "name": "python",
   "nbconvert_exporter": "python",
   "pygments_lexer": "ipython3",
   "version": "3.11.3"
  }
 },
 "nbformat": 4,
 "nbformat_minor": 2
}
