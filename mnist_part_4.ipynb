{
 "cells": [
  {
   "cell_type": "code",
   "execution_count": null,
   "metadata": {},
   "outputs": [],
   "source": [
    "import torch.nn as nn\n",
    "import torch\n",
    "from models.pale_nets import BiggerNet\n",
    "device = torch.device(\"cuda:0\" if torch.cuda.is_available() else \"cpu\")\n",
    "\n",
    "net = BiggerNet().to(device)\n"
   ]
  },
  {
   "cell_type": "code",
   "execution_count": null,
   "metadata": {},
   "outputs": [],
   "source": [
    "import torchvision.datasets as datasets\n",
    "import torchvision.transforms as transforms\n",
    "\n",
    "mnist_test = datasets.MNIST(root='./data', train=False, download=True, transform=transforms.ToTensor())\n",
    "\n",
    "# function to loop through the test dataset and count how many predictions we get correct\n",
    "def test_accuracy(net, test_data):\n",
    "    correct = 0\n",
    "    for i in range(len(test_data)):\n",
    "        image, label = test_data[i]\n",
    "        output = net(image.to(device))\n",
    "        prediction = output.argmax()\n",
    "        if (prediction == label):\n",
    "            correct += 1\n",
    "    return correct/len(test_data)*100"
   ]
  },
  {
   "cell_type": "code",
   "execution_count": null,
   "metadata": {},
   "outputs": [],
   "source": [
    "import torch\n",
    "\n",
    "# download and load the MNIST training dataset\n",
    "mnist_training = datasets.MNIST(root='./data', download=True, transform=transforms.ToTensor())\n",
    "\n",
    "# create a training data loader\n",
    "train_loader = torch.utils.data.DataLoader(mnist_training, batch_size=64, shuffle=True, num_workers=1)\n",
    "\n",
    "# create an optimizer object\n",
    "optimizer = torch.optim.RMSprop(net.parameters(), lr=0.001)\n",
    "\n",
    "# create a loss function object\n",
    "loss_function = nn.CrossEntropyLoss()\n",
    "\n",
    "# run the main training loop\n",
    "for epoch in range(50):\n",
    "    for image_batch, target_batch in train_loader:\n",
    "        optimizer.zero_grad()\n",
    "        output = net(image_batch.to(device))\n",
    "        loss = loss_function(output, target_batch.to(device))\n",
    "        loss.backward()\n",
    "        optimizer.step()\n",
    "    print('Epoch %d: %.4f' % (epoch+1, test_accuracy(net, mnist_test)/100))"
   ]
  },
  {
   "cell_type": "code",
   "execution_count": null,
   "metadata": {},
   "outputs": [],
   "source": [
    "torch.save(net.state_dict(), 'models/bigger_net.pth')\n"
   ]
  }
 ],
 "metadata": {
  "kernelspec": {
   "display_name": ".venv",
   "language": "python",
   "name": "python3"
  },
  "language_info": {
   "codemirror_mode": {
    "name": "ipython",
    "version": 3
   },
   "file_extension": ".py",
   "mimetype": "text/x-python",
   "name": "python",
   "nbconvert_exporter": "python",
   "pygments_lexer": "ipython3",
   "version": "3.11.3"
  }
 },
 "nbformat": 4,
 "nbformat_minor": 2
}
